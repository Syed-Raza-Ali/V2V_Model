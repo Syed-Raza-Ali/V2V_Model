{
  "nbformat": 4,
  "nbformat_minor": 0,
  "metadata": {
    "colab": {
      "provenance": [],
      "authorship_tag": "ABX9TyOAM/+ktTUkqT5G/7/37Dh5",
      "include_colab_link": true
    },
    "kernelspec": {
      "name": "python3",
      "display_name": "Python 3"
    },
    "language_info": {
      "name": "python"
    }
  },
  "cells": [
    {
      "cell_type": "markdown",
      "metadata": {
        "id": "view-in-github",
        "colab_type": "text"
      },
      "source": [
        "<a href=\"https://colab.research.google.com/github/Syed-Raza-Ali/V2V_Model/blob/main/V2V_model.ipynb\" target=\"_parent\"><img src=\"https://colab.research.google.com/assets/colab-badge.svg\" alt=\"Open In Colab\"/></a>"
      ]
    },
    {
      "cell_type": "code",
      "source": [
        "%%capture --no-stderr\n",
        "%pip install openai-whisper gradio gtts groq"
      ],
      "metadata": {
        "id": "cAo48-q5CKml"
      },
      "execution_count": 2,
      "outputs": []
    },
    {
      "cell_type": "code",
      "source": [
        "import os\n",
        "from google.colab import userdata\n",
        "\n",
        "os.environ[\"GROQ_API_KEY\"] = userdata.get('GROQ_API_KEY')"
      ],
      "metadata": {
        "id": "_W63ZalbCF3G"
      },
      "execution_count": 3,
      "outputs": []
    },
    {
      "cell_type": "code",
      "execution_count": 4,
      "metadata": {
        "colab": {
          "base_uri": "https://localhost:8080/",
          "height": 704
        },
        "id": "Pav2b3XlB6oK",
        "outputId": "490dd36e-e39c-4c8c-f61b-9011948329a1"
      },
      "outputs": [
        {
          "output_type": "stream",
          "name": "stderr",
          "text": [
            "100%|████████████████████████████████████████| 139M/139M [00:00<00:00, 146MiB/s]\n",
            "/usr/local/lib/python3.10/dist-packages/whisper/__init__.py:150: FutureWarning: You are using `torch.load` with `weights_only=False` (the current default value), which uses the default pickle module implicitly. It is possible to construct malicious pickle data which will execute arbitrary code during unpickling (See https://github.com/pytorch/pytorch/blob/main/SECURITY.md#untrusted-models for more details). In a future release, the default value for `weights_only` will be flipped to `True`. This limits the functions that could be executed during unpickling. Arbitrary objects will no longer be allowed to be loaded via this mode unless they are explicitly allowlisted by the user via `torch.serialization.add_safe_globals`. We recommend you start setting `weights_only=True` for any use case where you don't have full control of the loaded file. Please open an issue on GitHub for any issues related to this experimental feature.\n",
            "  checkpoint = torch.load(fp, map_location=device)\n"
          ]
        },
        {
          "output_type": "stream",
          "name": "stdout",
          "text": [
            "Running Gradio in a Colab notebook requires sharing enabled. Automatically setting `share=True` (you can turn this off by setting `share=False` in `launch()` explicitly).\n",
            "\n",
            "Colab notebook detected. To show errors in colab notebook, set debug=True in launch()\n",
            "* Running on public URL: https://26304a571f70bc0eae.gradio.live\n",
            "\n",
            "This share link expires in 72 hours. For free permanent hosting and GPU upgrades, run `gradio deploy` from the terminal in the working directory to deploy to Hugging Face Spaces (https://huggingface.co/spaces)\n"
          ]
        },
        {
          "output_type": "display_data",
          "data": {
            "text/plain": [
              "<IPython.core.display.HTML object>"
            ],
            "text/html": [
              "<div><iframe src=\"https://26304a571f70bc0eae.gradio.live\" width=\"100%\" height=\"500\" allow=\"autoplay; camera; microphone; clipboard-read; clipboard-write;\" frameborder=\"0\" allowfullscreen></iframe></div>"
            ]
          },
          "metadata": {}
        },
        {
          "output_type": "execute_result",
          "data": {
            "text/plain": []
          },
          "metadata": {},
          "execution_count": 4
        }
      ],
      "source": [
        "import whisper  # For transcribing audio input to text\n",
        "import os  # For accessing environment variables (e.g., API keys)\n",
        "from gtts import gTTS  # For converting text to speech\n",
        "from groq import Groq  # For interacting with the Groq LLM API\n",
        "import requests  # For making HTTP requests (not used in this script)\n",
        "import gradio as gr  # For creating a user-friendly web interface\n",
        "\n",
        "\n",
        "# Loading the Whisper model for audio transcription\n",
        "model = whisper.load_model(\"base\")\n",
        "\n",
        "# Initializing the Groq API client using an API key stored in environment variables\n",
        "client = Groq(api_key=os.environ.get(\"GROQ_API_KEY\"))\n",
        "\n",
        "# Function to get a response from the LLM (Groq API)\n",
        "def get_llm_response(user_input):\n",
        "    # Sending user input to the Groq LLM and receiving a response\n",
        "    chat_completion = client.chat.completions.create(\n",
        "        messages=[{\"role\": \"user\", \"content\": user_input}],  # Defining user input message\n",
        "        model=\"llama3-8b-8192\",  # Specifying the LLM model to use\n",
        "    )\n",
        "    # Returning the content of the LLM's response\n",
        "    return chat_completion.choices[0].message.content\n",
        "\n",
        "# Function to convert text to speech and save it as an audio file\n",
        "def text_to_speech(text, output_audio=\"output_audio.mp3\"):\n",
        "    # Initializing the Google Text-to-Speech engine with the given text\n",
        "    tts = gTTS(text)\n",
        "    # Saving the generated speech to an MP3 file\n",
        "    tts.save(output_audio)\n",
        "    # Returning the path to the saved audio file\n",
        "    return output_audio\n",
        "\n",
        "# Main chatbot function to handle audio input, process it, and generate responses\n",
        "def chatbot(audio):\n",
        "    # Transcribing the user's audio input to text using the Whisper model\n",
        "    result = model.transcribe(audio)\n",
        "    user_text = result[\"text\"]  # Extracting the transcribed text\n",
        "\n",
        "    # Getting the LLM's response based on the transcribed user input\n",
        "    response_text = get_llm_response(user_text)\n",
        "    # Converting the LLM's response text to speech and saving it as an audio file\n",
        "    output_audio = text_to_speech(response_text)\n",
        "\n",
        "    # Returning the response text and the path to the audio file\n",
        "    return response_text, output_audio\n",
        "\n",
        "# Setting up a Gradio interface for the chatbot\n",
        "iface = gr.Interface(\n",
        "    fn=chatbot,  # Linking the chatbot function to the interface\n",
        "    inputs=gr.Audio(type=\"filepath\"),  # Defining audio input as a file path\n",
        "    outputs=[gr.Textbox(), gr.Audio(type=\"filepath\")],  # Defining text and audio outputs\n",
        "    live=True,  # Enabling live interaction\n",
        ")\n",
        "\n",
        "# Launching the Gradio interface to make the chatbot accessible\n",
        "iface.launch()\n"
      ]
    }
  ]
}